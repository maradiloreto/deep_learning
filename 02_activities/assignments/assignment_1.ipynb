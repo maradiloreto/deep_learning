{
  "cells": [
    {
      "cell_type": "markdown",
      "metadata": {
        "id": "view-in-github",
        "colab_type": "text"
      },
      "source": [
        "<a href=\"https://colab.research.google.com/github/maradiloreto/deep_learning/blob/assignment-1/02_activities/assignments/assignment_1.ipynb\" target=\"_parent\"><img src=\"https://colab.research.google.com/assets/colab-badge.svg\" alt=\"Open In Colab\"/></a>"
      ]
    },
    {
      "cell_type": "markdown",
      "id": "ba8ab56f",
      "metadata": {
        "id": "ba8ab56f"
      },
      "source": [
        "# Advanced Image Classification with ImageNet"
      ]
    },
    {
      "cell_type": "markdown",
      "id": "7c630244b8fe2847",
      "metadata": {
        "collapsed": false,
        "id": "7c630244b8fe2847"
      },
      "source": [
        "In this assignment, you will be asked to develop a convolutional neural network (CNN) to classify images from the CIFAR-100 dataset. At each step, you'll be guided through the process of developing a model architecture to solve a problem. Your goal is to create a CNN that attains at least 55% accuracy on the validation set.\n",
        "\n",
        "### The CIFAR-100 Dataset\n",
        "\n",
        "The [CIFAR-100 dataset](https://www.cs.toronto.edu/~kriz/cifar.html) consists of 60000 32x32 colour images in 100 classes, with 600 images per class. There are 50000 training images and 10000 test images. The dataset is divided into five training batches and one test batch, each with 10000 images. The test batch contains exactly 1000 randomly-selected images from each class. The training batches contain the remaining images in random order, but some training batches may contain more images from one class than another. Between them, the training batches contain exactly 500 images from each class.\n",
        "\n",
        "### Tools\n",
        "\n",
        "You will use Keras with TensorFlow to develop your CNN. For this assignment, it's strongly recommended that you use a GPU to accelerate your training, or else you might find it difficult to train your network in a reasonable amount of time. If you have a computer with a GPU that you wish to use, you can follow the [TensorFlow instructions](https://www.tensorflow.org/install/) for installing TensorFlow with GPU support. Otherwise, you can use [Google Colab](https://colab.research.google.com/) to complete this assignment. Colab provides free access to GPU-enabled machines. If you run into any issues, please contact us as soon as possible so that we can help you resolve them."
      ]
    },
    {
      "cell_type": "markdown",
      "id": "fab62988ece1528d",
      "metadata": {
        "collapsed": false,
        "id": "fab62988ece1528d"
      },
      "source": [
        "## Task 1: Data Exploration and Preprocessing (Complete or Incomplete)\n",
        "### 1a: Load and Explore the Dataset\n",
        "- Use the code below to download the dataset.\n",
        "- Explore the dataset: examine the shape of the training and test sets, the dimensions of the images, and the number of classes. Show a few examples from the training set."
      ]
    },
    {
      "cell_type": "code",
      "execution_count": 3,
      "id": "8820fcdc5ae52ae2",
      "metadata": {
        "ExecuteTime": {
          "start_time": "2024-01-26T17:04:08.432758Z"
        },
        "is_executing": true,
        "colab": {
          "base_uri": "https://localhost:8080/"
        },
        "id": "8820fcdc5ae52ae2",
        "outputId": "91905148-2f9d-4b08-d662-db66233bf7f0"
      },
      "outputs": [
        {
          "output_type": "stream",
          "name": "stdout",
          "text": [
            "Downloading data from https://www.cs.toronto.edu/~kriz/cifar-100-python.tar.gz\n",
            "\u001b[1m169001437/169001437\u001b[0m \u001b[32m━━━━━━━━━━━━━━━━━━━━\u001b[0m\u001b[37m\u001b[0m \u001b[1m5s\u001b[0m 0us/step\n"
          ]
        }
      ],
      "source": [
        "from keras.datasets import cifar100\n",
        "\n",
        "# Load the CIFAR-100 dataset\n",
        "(x_train, y_train), (x_test, y_test) = cifar100.load_data(label_mode='fine')"
      ]
    },
    {
      "cell_type": "code",
      "execution_count": 4,
      "id": "a386b4072078138f",
      "metadata": {
        "id": "a386b4072078138f"
      },
      "outputs": [],
      "source": [
        "class_names = [\n",
        "    \"apple\", \"aquarium_fish\", \"baby\", \"bear\", \"beaver\", \"bed\", \"bee\", \"beetle\", \"bicycle\", \"bottle\",\n",
        "    \"bowl\", \"boy\", \"bridge\", \"bus\", \"butterfly\", \"camel\", \"can\", \"castle\", \"caterpillar\", \"cattle\",\n",
        "    \"chair\", \"chimpanzee\", \"clock\", \"cloud\", \"cockroach\", \"couch\", \"crab\", \"crocodile\", \"cup\", \"dinosaur\",\n",
        "    \"dolphin\", \"elephant\", \"flatfish\", \"forest\", \"fox\", \"girl\", \"hamster\", \"house\", \"kangaroo\", \"keyboard\",\n",
        "    \"lamp\", \"lawn_mower\", \"leopard\", \"lion\", \"lizard\", \"lobster\", \"man\", \"maple_tree\", \"motorcycle\", \"mountain\",\n",
        "    \"mouse\", \"mushroom\", \"oak_tree\", \"orange\", \"orchid\", \"otter\", \"palm_tree\", \"pear\", \"pickup_truck\", \"pine_tree\",\n",
        "    \"plain\", \"plate\", \"poppy\", \"porcupine\", \"possum\", \"rabbit\", \"raccoon\", \"ray\", \"road\", \"rocket\",\n",
        "    \"rose\", \"sea\", \"seal\", \"shark\", \"shrew\", \"skunk\", \"skyscraper\", \"snail\", \"snake\", \"spider\",\n",
        "    \"squirrel\", \"streetcar\", \"sunflower\", \"sweet_pepper\", \"table\", \"tank\", \"telephone\", \"television\", \"tiger\", \"tractor\",\n",
        "    \"train\", \"trout\", \"tulip\", \"turtle\", \"wardrobe\", \"whale\", \"willow_tree\", \"wolf\", \"woman\", \"worm\"\n",
        "]"
      ]
    },
    {
      "cell_type": "code",
      "execution_count": 5,
      "id": "36ca8354",
      "metadata": {
        "colab": {
          "base_uri": "https://localhost:8080/"
        },
        "id": "36ca8354",
        "outputId": "a56f6615-eaf5-468e-81b3-aca652579a81"
      },
      "outputs": [
        {
          "output_type": "execute_result",
          "data": {
            "text/plain": [
              "(50000, 32, 32, 3)"
            ]
          },
          "metadata": {},
          "execution_count": 5
        }
      ],
      "source": [
        "x_train.shape\n",
        "# The dataset of 50k images. image size 3x3, RGB"
      ]
    },
    {
      "cell_type": "code",
      "source": [
        "import numpy as np\n",
        "np.unique(y_train) # y_train has integer values, each of which correspond to the classes in the list"
      ],
      "metadata": {
        "colab": {
          "base_uri": "https://localhost:8080/"
        },
        "id": "DBLsB8l69X1p",
        "outputId": "9e50ad2e-a1b9-4256-8f62-388fc692feea"
      },
      "id": "DBLsB8l69X1p",
      "execution_count": 6,
      "outputs": [
        {
          "output_type": "execute_result",
          "data": {
            "text/plain": [
              "array([ 0,  1,  2,  3,  4,  5,  6,  7,  8,  9, 10, 11, 12, 13, 14, 15, 16,\n",
              "       17, 18, 19, 20, 21, 22, 23, 24, 25, 26, 27, 28, 29, 30, 31, 32, 33,\n",
              "       34, 35, 36, 37, 38, 39, 40, 41, 42, 43, 44, 45, 46, 47, 48, 49, 50,\n",
              "       51, 52, 53, 54, 55, 56, 57, 58, 59, 60, 61, 62, 63, 64, 65, 66, 67,\n",
              "       68, 69, 70, 71, 72, 73, 74, 75, 76, 77, 78, 79, 80, 81, 82, 83, 84,\n",
              "       85, 86, 87, 88, 89, 90, 91, 92, 93, 94, 95, 96, 97, 98, 99])"
            ]
          },
          "metadata": {},
          "execution_count": 6
        }
      ]
    },
    {
      "cell_type": "code",
      "source": [
        "import matplotlib.pyplot as plt\n",
        "\n",
        "# Display a single image\n",
        "plt.imshow(x_train[0])  # Display the first image in the training set\n",
        "plt.title(class_names[y_train[0][0]])  # Set the title to the class name\n",
        "plt.show()"
      ],
      "metadata": {
        "colab": {
          "base_uri": "https://localhost:8080/",
          "height": 452
        },
        "id": "QdEkd8RU9bRR",
        "outputId": "d1594161-fc06-401d-c7a5-af585323d20a"
      },
      "id": "QdEkd8RU9bRR",
      "execution_count": 7,
      "outputs": [
        {
          "output_type": "display_data",
          "data": {
            "text/plain": [
              "<Figure size 640x480 with 1 Axes>"
            ],
            "image/png": "[encoded data removed]"
          },
          "metadata": {}
        }
      ]
    },
    {
      "cell_type": "code",
      "source": [
        "import matplotlib.pyplot as plt\n",
        "\n",
        "# Display a single image\n",
        "plt.imshow(x_train[3])  # Display the 4th image in the training set\n",
        "plt.title(class_names[y_train[3][0]])  # Set the title to the class name\n",
        "plt.show()"
      ],
      "metadata": {
        "colab": {
          "base_uri": "https://localhost:8080/",
          "height": 452
        },
        "id": "X2JAQvD29ens",
        "outputId": "dc5d255c-9f92-46ab-ca32-095a59060dc1"
      },
      "id": "X2JAQvD29ens",
      "execution_count": 8,
      "outputs": [
        {
          "output_type": "display_data",
          "data": {
            "text/plain": [
              "<Figure size 640x480 with 1 Axes>"
            ],
            "image/png": "[encoded data removed]"
          },
          "metadata": {}
        }
      ]
    },
    {
      "cell_type": "markdown",
      "id": "ad49291da3a819ea",
      "metadata": {
        "collapsed": false,
        "id": "ad49291da3a819ea"
      },
      "source": [
        "### 1b: Data Preprocessing\n",
        "- With the data downloaded, it's time to preprocess it. Start by normalizing the images so that they all have pixel values in the range [0, 1].\n",
        "- Next, convert the labels to one-hot encoded vectors.\n",
        "- Finally, split the training set into training and validation sets. Use 80% of the training set for training and the remaining 20% for validation."
      ]
    },
    {
      "cell_type": "code",
      "execution_count": 9,
      "id": "b18c10172fa72d0c",
      "metadata": {
        "colab": {
          "base_uri": "https://localhost:8080/",
          "height": 72
        },
        "id": "b18c10172fa72d0c",
        "outputId": "e5d39fab-1024-4073-81cc-1aaa926ad6ef"
      },
      "outputs": [
        {
          "output_type": "execute_result",
          "data": {
            "text/plain": [
              "array([[[255, 255, 255],\n",
              "        [255, 255, 255],\n",
              "        [255, 255, 255],\n",
              "        ...,\n",
              "        [195, 205, 193],\n",
              "        [212, 224, 204],\n",
              "        [182, 194, 167]],\n",
              "\n",
              "       [[255, 255, 255],\n",
              "        [254, 254, 254],\n",
              "        [254, 254, 254],\n",
              "        ...,\n",
              "        [170, 176, 150],\n",
              "        [161, 168, 130],\n",
              "        [146, 154, 113]],\n",
              "\n",
              "       [[255, 255, 255],\n",
              "        [254, 254, 254],\n",
              "        [255, 255, 255],\n",
              "        ...,\n",
              "        [189, 199, 169],\n",
              "        [166, 178, 130],\n",
              "        [121, 133,  87]],\n",
              "\n",
              "       ...,\n",
              "\n",
              "       [[148, 185,  79],\n",
              "        [142, 182,  57],\n",
              "        [140, 179,  60],\n",
              "        ...,\n",
              "        [ 30,  17,   1],\n",
              "        [ 65,  62,  15],\n",
              "        [ 76,  77,  20]],\n",
              "\n",
              "       [[122, 157,  66],\n",
              "        [120, 155,  58],\n",
              "        [126, 160,  71],\n",
              "        ...,\n",
              "        [ 22,  16,   3],\n",
              "        [ 97, 112,  56],\n",
              "        [141, 161,  87]],\n",
              "\n",
              "       [[ 87, 122,  41],\n",
              "        [ 88, 122,  39],\n",
              "        [101, 134,  56],\n",
              "        ...,\n",
              "        [ 34,  36,  10],\n",
              "        [105, 133,  59],\n",
              "        [138, 173,  79]]], dtype=uint8)"
            ],
            "text/html": [
              "<style>\n",
              "      .ndarray_repr .ndarray_raw_data {\n",
              "        display: none;\n",
              "      }\n",
              "      .ndarray_repr.show_array .ndarray_raw_data {\n",
              "        display: block;\n",
              "      }\n",
              "      .ndarray_repr.show_array .ndarray_image_preview {\n",
              "        display: none;\n",
              "      }\n",
              "      </style>\n",
              "      <div id=\"id-e9bc3da7-0ec2-40d1-b193-67f6b017d983\" class=\"ndarray_repr\"><pre>ndarray (32, 32, 3) <button style=\"padding: 0 2px;\">show data</button></pre><img src=\"data:image/png;base64,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\" class=\"ndarray_image_preview\" /><pre class=\"ndarray_raw_data\">array([[[255, 255, 255],\n",
              "        [255, 255, 255],\n",
              "        [255, 255, 255],\n",
              "        ...,\n",
              "        [195, 205, 193],\n",
              "        [212, 224, 204],\n",
              "        [182, 194, 167]],\n",
              "\n",
              "       [[255, 255, 255],\n",
              "        [254, 254, 254],\n",
              "        [254, 254, 254],\n",
              "        ...,\n",
              "        [170, 176, 150],\n",
              "        [161, 168, 130],\n",
              "        [146, 154, 113]],\n",
              "\n",
              "       [[255, 255, 255],\n",
              "        [254, 254, 254],\n",
              "        [255, 255, 255],\n",
              "        ...,\n",
              "        [189, 199, 169],\n",
              "        [166, 178, 130],\n",
              "        [121, 133,  87]],\n",
              "\n",
              "       ...,\n",
              "\n",
              "       [[148, 185,  79],\n",
              "        [142, 182,  57],\n",
              "        [140, 179,  60],\n",
              "        ...,\n",
              "        [ 30,  17,   1],\n",
              "        [ 65,  62,  15],\n",
              "        [ 76,  77,  20]],\n",
              "\n",
              "       [[122, 157,  66],\n",
              "        [120, 155,  58],\n",
              "        [126, 160,  71],\n",
              "        ...,\n",
              "        [ 22,  16,   3],\n",
              "        [ 97, 112,  56],\n",
              "        [141, 161,  87]],\n",
              "\n",
              "       [[ 87, 122,  41],\n",
              "        [ 88, 122,  39],\n",
              "        [101, 134,  56],\n",
              "        ...,\n",
              "        [ 34,  36,  10],\n",
              "        [105, 133,  59],\n",
              "        [138, 173,  79]]], dtype=uint8)</pre></div><script>\n",
              "      (() => {\n",
              "      const titles = ['show data', 'hide data'];\n",
              "      let index = 0\n",
              "      document.querySelector('#id-e9bc3da7-0ec2-40d1-b193-67f6b017d983 button').onclick = (e) => {\n",
              "        document.querySelector('#id-e9bc3da7-0ec2-40d1-b193-67f6b017d983').classList.toggle('show_array');\n",
              "        index = (++index) % 2;\n",
              "        document.querySelector('#id-e9bc3da7-0ec2-40d1-b193-67f6b017d983 button').textContent = titles[index];\n",
              "        e.preventDefault();\n",
              "        e.stopPropagation();\n",
              "      }\n",
              "      })();\n",
              "    </script>"
            ]
          },
          "metadata": {},
          "execution_count": 9
        }
      ],
      "source": [
        "x_train[0]"
      ]
    },
    {
      "cell_type": "code",
      "source": [
        "import numpy as np\n",
        "from keras.utils import to_categorical\n",
        "from sklearn.model_selection import train_test_split\n",
        "\n",
        "# 1. Normalize pixel values to the range [0, 1]\n",
        "x_train = x_train.astype('float32') / 255.0\n",
        "x_test = x_test.astype('float32') / 255.0\n",
        "\n",
        "# 2. Convert labels to one-hot encoded vectors\n",
        "y_train = to_categorical(y_train, num_classes=100)  # 100 classes in CIFAR-100\n",
        "y_test = to_categorical(y_test, num_classes=100)\n",
        "\n",
        "# 3. Split the training set into training and validation sets\n",
        "# validation set will be used for hyperparameter tuning\n",
        "# the original test set will be completely independent\n",
        "x_train, x_val, y_train, y_val = train_test_split(x_train, y_train, test_size=0.2, random_state=42)"
      ],
      "metadata": {
        "id": "bsNMSWnb9lqJ"
      },
      "id": "bsNMSWnb9lqJ",
      "execution_count": 11,
      "outputs": []
    },
    {
      "cell_type": "markdown",
      "id": "5993757f08c89db7",
      "metadata": {
        "collapsed": false,
        "id": "5993757f08c89db7"
      },
      "source": [
        "## Task 2: Model Development (Complete or Incomplete)\n",
        "### Task 2a: Create a Baseline CNN Model\n",
        "- Design a CNN architecture. Your architecture should use convolutional layers, max pooling layers, and dense layers. You can use any number of layers, and you can experiment with different numbers of filters, filter sizes, strides, padding, etc. The design doesn't need to be perfect, but it should be unique to you.\n",
        "- Print out the model summary."
      ]
    },
    {
      "cell_type": "code",
      "execution_count": 16,
      "id": "c9edafdaf887b8d5",
      "metadata": {
        "colab": {
          "base_uri": "https://localhost:8080/",
          "height": 420
        },
        "id": "c9edafdaf887b8d5",
        "outputId": "2f7cb838-962c-4d16-b7ef-e6c25f0a8cf3"
      },
      "outputs": [
        {
          "output_type": "display_data",
          "data": {
            "text/plain": [
              "\u001b[1mModel: \"sequential_1\"\u001b[0m\n"
            ],
            "text/html": [
              "<pre style=\"white-space:pre;overflow-x:auto;line-height:normal;font-family:Menlo,'DejaVu Sans Mono',consolas,'Courier New',monospace\"><span style=\"font-weight: bold\">Model: \"sequential_1\"</span>\n",
              "</pre>\n"
            ]
          },
          "metadata": {}
        },
        {
          "output_type": "display_data",
          "data": {
            "text/plain": [
              "┏━━━━━━━━━━━━━━━━━━━━━━━━━━━━━━━━━━━━━━┳━━━━━━━━━━━━━━━━━━━━━━━━━━━━━┳━━━━━━━━━━━━━━━━━┓\n",
              "┃\u001b[1m \u001b[0m\u001b[1mLayer (type)                        \u001b[0m\u001b[1m \u001b[0m┃\u001b[1m \u001b[0m\u001b[1mOutput Shape               \u001b[0m\u001b[1m \u001b[0m┃\u001b[1m \u001b[0m\u001b[1m        Param #\u001b[0m\u001b[1m \u001b[0m┃\n",
              "┡━━━━━━━━━━━━━━━━━━━━━━━━━━━━━━━━━━━━━━╇━━━━━━━━━━━━━━━━━━━━━━━━━━━━━╇━━━━━━━━━━━━━━━━━┩\n",
              "│ conv2d_4 (\u001b[38;5;33mConv2D\u001b[0m)                    │ (\u001b[38;5;45mNone\u001b[0m, \u001b[38;5;34m32\u001b[0m, \u001b[38;5;34m32\u001b[0m, \u001b[38;5;34m16\u001b[0m)          │             \u001b[38;5;34m448\u001b[0m │\n",
              "├──────────────────────────────────────┼─────────────────────────────┼─────────────────┤\n",
              "│ max_pooling2d_2 (\u001b[38;5;33mMaxPooling2D\u001b[0m)       │ (\u001b[38;5;45mNone\u001b[0m, \u001b[38;5;34m16\u001b[0m, \u001b[38;5;34m16\u001b[0m, \u001b[38;5;34m16\u001b[0m)          │               \u001b[38;5;34m0\u001b[0m │\n",
              "├──────────────────────────────────────┼─────────────────────────────┼─────────────────┤\n",
              "│ conv2d_5 (\u001b[38;5;33mConv2D\u001b[0m)                    │ (\u001b[38;5;45mNone\u001b[0m, \u001b[38;5;34m16\u001b[0m, \u001b[38;5;34m16\u001b[0m, \u001b[38;5;34m32\u001b[0m)          │           \u001b[38;5;34m4,640\u001b[0m │\n",
              "├──────────────────────────────────────┼─────────────────────────────┼─────────────────┤\n",
              "│ max_pooling2d_3 (\u001b[38;5;33mMaxPooling2D\u001b[0m)       │ (\u001b[38;5;45mNone\u001b[0m, \u001b[38;5;34m8\u001b[0m, \u001b[38;5;34m8\u001b[0m, \u001b[38;5;34m32\u001b[0m)            │               \u001b[38;5;34m0\u001b[0m │\n",
              "├──────────────────────────────────────┼─────────────────────────────┼─────────────────┤\n",
              "│ conv2d_6 (\u001b[38;5;33mConv2D\u001b[0m)                    │ (\u001b[38;5;45mNone\u001b[0m, \u001b[38;5;34m8\u001b[0m, \u001b[38;5;34m8\u001b[0m, \u001b[38;5;34m128\u001b[0m)           │          \u001b[38;5;34m36,992\u001b[0m │\n",
              "├──────────────────────────────────────┼─────────────────────────────┼─────────────────┤\n",
              "│ conv2d_7 (\u001b[38;5;33mConv2D\u001b[0m)                    │ (\u001b[38;5;45mNone\u001b[0m, \u001b[38;5;34m8\u001b[0m, \u001b[38;5;34m8\u001b[0m, \u001b[38;5;34m256\u001b[0m)           │         \u001b[38;5;34m295,168\u001b[0m │\n",
              "├──────────────────────────────────────┼─────────────────────────────┼─────────────────┤\n",
              "│ flatten_1 (\u001b[38;5;33mFlatten\u001b[0m)                  │ (\u001b[38;5;45mNone\u001b[0m, \u001b[38;5;34m16384\u001b[0m)               │               \u001b[38;5;34m0\u001b[0m │\n",
              "├──────────────────────────────────────┼─────────────────────────────┼─────────────────┤\n",
              "│ dense_2 (\u001b[38;5;33mDense\u001b[0m)                      │ (\u001b[38;5;45mNone\u001b[0m, \u001b[38;5;34m256\u001b[0m)                 │       \u001b[38;5;34m4,194,560\u001b[0m │\n",
              "├──────────────────────────────────────┼─────────────────────────────┼─────────────────┤\n",
              "│ dense_3 (\u001b[38;5;33mDense\u001b[0m)                      │ (\u001b[38;5;45mNone\u001b[0m, \u001b[38;5;34m100\u001b[0m)                 │          \u001b[38;5;34m25,700\u001b[0m │\n",
              "└──────────────────────────────────────┴─────────────────────────────┴─────────────────┘\n"
            ],
            "text/html": [
              "<pre style=\"white-space:pre;overflow-x:auto;line-height:normal;font-family:Menlo,'DejaVu Sans Mono',consolas,'Courier New',monospace\">┏━━━━━━━━━━━━━━━━━━━━━━━━━━━━━━━━━━━━━━┳━━━━━━━━━━━━━━━━━━━━━━━━━━━━━┳━━━━━━━━━━━━━━━━━┓\n",
              "┃<span style=\"font-weight: bold\"> Layer (type)                         </span>┃<span style=\"font-weight: bold\"> Output Shape                </span>┃<span style=\"font-weight: bold\">         Param # </span>┃\n",
              "┡━━━━━━━━━━━━━━━━━━━━━━━━━━━━━━━━━━━━━━╇━━━━━━━━━━━━━━━━━━━━━━━━━━━━━╇━━━━━━━━━━━━━━━━━┩\n",
              "│ conv2d_4 (<span style=\"color: #0087ff; text-decoration-color: #0087ff\">Conv2D</span>)                    │ (<span style=\"color: #00d7ff; text-decoration-color: #00d7ff\">None</span>, <span style=\"color: #00af00; text-decoration-color: #00af00\">32</span>, <span style=\"color: #00af00; text-decoration-color: #00af00\">32</span>, <span style=\"color: #00af00; text-decoration-color: #00af00\">16</span>)          │             <span style=\"color: #00af00; text-decoration-color: #00af00\">448</span> │\n",
              "├──────────────────────────────────────┼─────────────────────────────┼─────────────────┤\n",
              "│ max_pooling2d_2 (<span style=\"color: #0087ff; text-decoration-color: #0087ff\">MaxPooling2D</span>)       │ (<span style=\"color: #00d7ff; text-decoration-color: #00d7ff\">None</span>, <span style=\"color: #00af00; text-decoration-color: #00af00\">16</span>, <span style=\"color: #00af00; text-decoration-color: #00af00\">16</span>, <span style=\"color: #00af00; text-decoration-color: #00af00\">16</span>)          │               <span style=\"color: #00af00; text-decoration-color: #00af00\">0</span> │\n",
              "├──────────────────────────────────────┼─────────────────────────────┼─────────────────┤\n",
              "│ conv2d_5 (<span style=\"color: #0087ff; text-decoration-color: #0087ff\">Conv2D</span>)                    │ (<span style=\"color: #00d7ff; text-decoration-color: #00d7ff\">None</span>, <span style=\"color: #00af00; text-decoration-color: #00af00\">16</span>, <span style=\"color: #00af00; text-decoration-color: #00af00\">16</span>, <span style=\"color: #00af00; text-decoration-color: #00af00\">32</span>)          │           <span style=\"color: #00af00; text-decoration-color: #00af00\">4,640</span> │\n",
              "├──────────────────────────────────────┼─────────────────────────────┼─────────────────┤\n",
              "│ max_pooling2d_3 (<span style=\"color: #0087ff; text-decoration-color: #0087ff\">MaxPooling2D</span>)       │ (<span style=\"color: #00d7ff; text-decoration-color: #00d7ff\">None</span>, <span style=\"color: #00af00; text-decoration-color: #00af00\">8</span>, <span style=\"color: #00af00; text-decoration-color: #00af00\">8</span>, <span style=\"color: #00af00; text-decoration-color: #00af00\">32</span>)            │               <span style=\"color: #00af00; text-decoration-color: #00af00\">0</span> │\n",
              "├──────────────────────────────────────┼─────────────────────────────┼─────────────────┤\n",
              "│ conv2d_6 (<span style=\"color: #0087ff; text-decoration-color: #0087ff\">Conv2D</span>)                    │ (<span style=\"color: #00d7ff; text-decoration-color: #00d7ff\">None</span>, <span style=\"color: #00af00; text-decoration-color: #00af00\">8</span>, <span style=\"color: #00af00; text-decoration-color: #00af00\">8</span>, <span style=\"color: #00af00; text-decoration-color: #00af00\">128</span>)           │          <span style=\"color: #00af00; text-decoration-color: #00af00\">36,992</span> │\n",
              "├──────────────────────────────────────┼─────────────────────────────┼─────────────────┤\n",
              "│ conv2d_7 (<span style=\"color: #0087ff; text-decoration-color: #0087ff\">Conv2D</span>)                    │ (<span style=\"color: #00d7ff; text-decoration-color: #00d7ff\">None</span>, <span style=\"color: #00af00; text-decoration-color: #00af00\">8</span>, <span style=\"color: #00af00; text-decoration-color: #00af00\">8</span>, <span style=\"color: #00af00; text-decoration-color: #00af00\">256</span>)           │         <span style=\"color: #00af00; text-decoration-color: #00af00\">295,168</span> │\n",
              "├──────────────────────────────────────┼─────────────────────────────┼─────────────────┤\n",
              "│ flatten_1 (<span style=\"color: #0087ff; text-decoration-color: #0087ff\">Flatten</span>)                  │ (<span style=\"color: #00d7ff; text-decoration-color: #00d7ff\">None</span>, <span style=\"color: #00af00; text-decoration-color: #00af00\">16384</span>)               │               <span style=\"color: #00af00; text-decoration-color: #00af00\">0</span> │\n",
              "├──────────────────────────────────────┼─────────────────────────────┼─────────────────┤\n",
              "│ dense_2 (<span style=\"color: #0087ff; text-decoration-color: #0087ff\">Dense</span>)                      │ (<span style=\"color: #00d7ff; text-decoration-color: #00d7ff\">None</span>, <span style=\"color: #00af00; text-decoration-color: #00af00\">256</span>)                 │       <span style=\"color: #00af00; text-decoration-color: #00af00\">4,194,560</span> │\n",
              "├──────────────────────────────────────┼─────────────────────────────┼─────────────────┤\n",
              "│ dense_3 (<span style=\"color: #0087ff; text-decoration-color: #0087ff\">Dense</span>)                      │ (<span style=\"color: #00d7ff; text-decoration-color: #00d7ff\">None</span>, <span style=\"color: #00af00; text-decoration-color: #00af00\">100</span>)                 │          <span style=\"color: #00af00; text-decoration-color: #00af00\">25,700</span> │\n",
              "└──────────────────────────────────────┴─────────────────────────────┴─────────────────┘\n",
              "</pre>\n"
            ]
          },
          "metadata": {}
        },
        {
          "output_type": "display_data",
          "data": {
            "text/plain": [
              "\u001b[1m Total params: \u001b[0m\u001b[38;5;34m4,557,508\u001b[0m (17.39 MB)\n"
            ],
            "text/html": [
              "<pre style=\"white-space:pre;overflow-x:auto;line-height:normal;font-family:Menlo,'DejaVu Sans Mono',consolas,'Courier New',monospace\"><span style=\"font-weight: bold\"> Total params: </span><span style=\"color: #00af00; text-decoration-color: #00af00\">4,557,508</span> (17.39 MB)\n",
              "</pre>\n"
            ]
          },
          "metadata": {}
        },
        {
          "output_type": "display_data",
          "data": {
            "text/plain": [
              "\u001b[1m Trainable params: \u001b[0m\u001b[38;5;34m4,557,508\u001b[0m (17.39 MB)\n"
            ],
            "text/html": [
              "<pre style=\"white-space:pre;overflow-x:auto;line-height:normal;font-family:Menlo,'DejaVu Sans Mono',consolas,'Courier New',monospace\"><span style=\"font-weight: bold\"> Trainable params: </span><span style=\"color: #00af00; text-decoration-color: #00af00\">4,557,508</span> (17.39 MB)\n",
              "</pre>\n"
            ]
          },
          "metadata": {}
        },
        {
          "output_type": "display_data",
          "data": {
            "text/plain": [
              "\u001b[1m Non-trainable params: \u001b[0m\u001b[38;5;34m0\u001b[0m (0.00 B)\n"
            ],
            "text/html": [
              "<pre style=\"white-space:pre;overflow-x:auto;line-height:normal;font-family:Menlo,'DejaVu Sans Mono',consolas,'Courier New',monospace\"><span style=\"font-weight: bold\"> Non-trainable params: </span><span style=\"color: #00af00; text-decoration-color: #00af00\">0</span> (0.00 B)\n",
              "</pre>\n"
            ]
          },
          "metadata": {}
        }
      ],
      "source": [
        "from keras.models import Sequential\n",
        "from keras.layers import Conv2D, MaxPooling2D, Flatten, Dense\n",
        "\n",
        "model = Sequential()\n",
        "\n",
        "# Convolutional Layer 1\n",
        "model.add(Conv2D(16, (3, 3), activation='relu', padding='same', input_shape=(32, 32, 3)))\n",
        "model.add(MaxPooling2D((2, 2)))\n",
        "\n",
        "# Convolutional Layer 2\n",
        "model.add(Conv2D(32, (3, 3), activation='relu', padding='same'))\n",
        "model.add(MaxPooling2D((2, 2)))\n",
        "\n",
        "# Convolutional Layer 3\n",
        "model.add(Conv2D(128, (3, 3), activation='relu', padding='same'))\n",
        "#model.add(MaxPooling2D((2, 2)))\n",
        "# I don't need maxpooling layers, because I have enough computing resources\n",
        "\n",
        "\n",
        "# Convolutional Layer 4\n",
        "model.add(Conv2D(256, (3, 3), activation='relu', padding='same'))\n",
        "\n",
        "# Flatten and Dense Layers\n",
        "model.add(Flatten())\n",
        "model.add(Dense(256, activation='relu'))\n",
        "model.add(Dense(100, activation='softmax'))  # 100 classes in CIFAR-100\n",
        "# The last 'flat' layer has to match the number of classes\n",
        "\n",
        "# Print model summary\n",
        "model.summary()"
      ]
    },
    {
      "cell_type": "markdown",
      "id": "546324c007c73db5",
      "metadata": {
        "collapsed": false,
        "id": "546324c007c73db5"
      },
      "source": [
        "### Task 2b: Compile the model\n",
        "\n",
        "- Select an appropriate loss function and optimizer for your model. These can be ones we have looked at already, or they can be different.\n",
        "- Briefly explain your choices (one or two sentences each).\n",
        "- <b>Loss function:</b> ______\n",
        "- <b>Optimizer:</b> ______"
      ]
    },
    {
      "cell_type": "code",
      "execution_count": 17,
      "id": "ab39f4ba69d684e9",
      "metadata": {
        "id": "ab39f4ba69d684e9"
      },
      "outputs": [],
      "source": [
        "model.compile(loss='categorical_crossentropy', optimizer='adam', metrics=['accuracy'])"
      ]
    },
    {
      "cell_type": "markdown",
      "id": "653fba928413b9f6",
      "metadata": {
        "collapsed": false,
        "id": "653fba928413b9f6"
      },
      "source": [
        "## Task 3: Model Training and Evaluation (Complete or Incomplete)\n",
        "### Task 3a: Train the Model\n",
        "\n",
        "- Train your model for an appropriate number of epochs. Explain your choice of the number of epochs used - you can change this number before submitting your assignment.\n",
        "- Use a batch size of 32.\n",
        "- Use the validation set for validation."
      ]
    },
    {
      "cell_type": "code",
      "execution_count": 3,
      "id": "9de74f274ad08546",
      "metadata": {
        "colab": {
          "base_uri": "https://localhost:8080/",
          "height": 159
        },
        "id": "9de74f274ad08546",
        "outputId": "c2480563-d61a-499f-df4b-a72a9a228141"
      },
      "outputs": [
        {
          "output_type": "error",
          "ename": "NameError",
          "evalue": "name 'model' is not defined",
          "traceback": [
            "\u001b[0;31m---------------------------------------------------------------------------\u001b[0m",
            "\u001b[0;31mNameError\u001b[0m                                 Traceback (most recent call last)",
            "\u001b[0;32m<ipython-input-3-4cd9f25476aa>\u001b[0m in \u001b[0;36m<cell line: 0>\u001b[0;34m()\u001b[0m\n\u001b[0;32m----> 1\u001b[0;31m \u001b[0mhistory\u001b[0m \u001b[0;34m=\u001b[0m \u001b[0mmodel\u001b[0m\u001b[0;34m.\u001b[0m\u001b[0mfit\u001b[0m\u001b[0;34m(\u001b[0m\u001b[0mx_train\u001b[0m\u001b[0;34m,\u001b[0m \u001b[0my_train\u001b[0m\u001b[0;34m,\u001b[0m \u001b[0mepochs\u001b[0m\u001b[0;34m=\u001b[0m\u001b[0;36m10\u001b[0m\u001b[0;34m,\u001b[0m \u001b[0mbatch_size\u001b[0m\u001b[0;34m=\u001b[0m\u001b[0;36m32\u001b[0m\u001b[0;34m,\u001b[0m \u001b[0mvalidation_data\u001b[0m\u001b[0;34m=\u001b[0m\u001b[0;34m(\u001b[0m\u001b[0mx_test\u001b[0m\u001b[0;34m,\u001b[0m \u001b[0my_test\u001b[0m\u001b[0;34m)\u001b[0m\u001b[0;34m)\u001b[0m\u001b[0;34m\u001b[0m\u001b[0;34m\u001b[0m\u001b[0m\n\u001b[0m",
            "\u001b[0;31mNameError\u001b[0m: name 'model' is not defined"
          ]
        }
      ],
      "source": [
        "history = model.fit(x_train, y_train, epochs=10, batch_size=32, validation_data=(x_test, y_test))"
      ]
    },
    {
      "cell_type": "code",
      "execution_count": 2,
      "id": "f670665fda92fb0e",
      "metadata": {
        "ExecuteTime": {
          "end_time": "2024-01-26T17:49:39.016880Z",
          "start_time": "2024-01-26T17:49:39.012100Z"
        },
        "colab": {
          "base_uri": "https://localhost:8080/",
          "height": 193
        },
        "id": "f670665fda92fb0e",
        "outputId": "630fe7ae-a5d0-4c35-e43b-4e9de91fbe3a"
      },
      "outputs": [
        {
          "output_type": "error",
          "ename": "NameError",
          "evalue": "name 'model' is not defined",
          "traceback": [
            "\u001b[0;31m---------------------------------------------------------------------------\u001b[0m",
            "\u001b[0;31mNameError\u001b[0m                                 Traceback (most recent call last)",
            "\u001b[0;32m<ipython-input-2-64d0489c0427>\u001b[0m in \u001b[0;36m<cell line: 0>\u001b[0;34m()\u001b[0m\n\u001b[1;32m      3\u001b[0m \u001b[0;31m# Choose 5 as the best number of epochs\u001b[0m\u001b[0;34m\u001b[0m\u001b[0;34m\u001b[0m\u001b[0m\n\u001b[1;32m      4\u001b[0m \u001b[0;34m\u001b[0m\u001b[0m\n\u001b[0;32m----> 5\u001b[0;31m \u001b[0mhistory\u001b[0m \u001b[0;34m=\u001b[0m \u001b[0mmodel\u001b[0m\u001b[0;34m.\u001b[0m\u001b[0mfit\u001b[0m\u001b[0;34m(\u001b[0m\u001b[0mx_train\u001b[0m\u001b[0;34m,\u001b[0m \u001b[0my_train\u001b[0m\u001b[0;34m,\u001b[0m \u001b[0mepochs\u001b[0m\u001b[0;34m=\u001b[0m\u001b[0;36m5\u001b[0m\u001b[0;34m,\u001b[0m \u001b[0mbatch_size\u001b[0m\u001b[0;34m=\u001b[0m\u001b[0;36m32\u001b[0m\u001b[0;34m,\u001b[0m \u001b[0mvalidation_data\u001b[0m\u001b[0;34m=\u001b[0m\u001b[0;34m(\u001b[0m\u001b[0mx_test\u001b[0m\u001b[0;34m,\u001b[0m \u001b[0my_test\u001b[0m\u001b[0;34m)\u001b[0m\u001b[0;34m)\u001b[0m\u001b[0;34m\u001b[0m\u001b[0;34m\u001b[0m\u001b[0m\n\u001b[0m",
            "\u001b[0;31mNameError\u001b[0m: name 'model' is not defined"
          ]
        }
      ],
      "source": [
        "# Looking at the output above, the val_accuracy starts going down after 6 onwards,\n",
        "# which means that my model is now overfitting.\n",
        "# Choose 5 as the best number of epochs\n",
        "\n",
        "history = model.fit(x_train, y_train, epochs=5, batch_size=32, validation_data=(x_test, y_test))"
      ]
    },
    {
      "cell_type": "markdown",
      "id": "b48615c26b99d2e9",
      "metadata": {
        "collapsed": false,
        "id": "b48615c26b99d2e9"
      },
      "source": [
        "### Task 3b: Accuracy and other relevant metrics on the test set\n",
        "\n",
        "- Report the accuracy of your model on the test set.\n",
        "- While accuracy is a good metric, there are many other ways to numerically evaluate a model. Report at least one other metric, and explain what it measures and how it is calculated.\n",
        "\n",
        "- <b>Accuracy:</b> ______\n",
        "- <b>Other metric:</b> ______\n",
        "- <b>Reason for selection:</b> _____\n",
        "- <b>Value of metric:</b> ______\n",
        "- <b>Interpretation of metric value:</b> ______"
      ]
    },
    {
      "cell_type": "code",
      "source": [
        "import numpy as np\n",
        "from sklearn.metrics import precision_score, recall_score\n",
        "\n",
        "# 1. Get predictions and true labels (as you did before)\n",
        "y_pred = model.predict(x_test)\n",
        "y_pred_classes = np.argmax(y_pred, axis=1)\n",
        "y_true = np.argmax(y_test, axis=1)\n",
        "\n",
        "# 2. Get unique class labels\n",
        "unique_classes = np.unique(y_true)\n",
        "\n",
        "# 3. Calculate precision and recall for each class\n",
        "precision_per_class = []\n",
        "recall_per_class = []\n",
        "for class_label in unique_classes:\n",
        "    # Create binary labels for the current class\n",
        "    y_true_binary = (y_true == class_label).astype(int)\n",
        "    y_pred_binary = (y_pred_classes == class_label).astype(int)\n",
        "\n",
        "    # Calculate precision and recall for the current class\n",
        "    precision = precision_score(y_true_binary, y_pred_binary)\n",
        "    recall = recall_score(y_true_binary, y_pred_binary)\n",
        "\n",
        "    precision_per_class.append(precision)\n",
        "    recall_per_class.append(recall)\n",
        "\n",
        "# 4. Calculate weighted average precision and recall\n",
        "weights = np.bincount(y_true) / len(y_true)  # Weights based on class frequencies\n",
        "weighted_avg_precision = np.average(precision_per_class, weights=weights)\n",
        "weighted_avg_recall = np.average(recall_per_class, weights=weights)\n",
        "\n",
        "print(\"Weighted Average Precision:\", weighted_avg_precision)\n",
        "print(\"Weighted Average Recall:\", weighted_avg_recall)"
      ],
      "metadata": {
        "colab": {
          "base_uri": "https://localhost:8080/",
          "height": 211
        },
        "id": "JNVbYdjsLj4c",
        "outputId": "c0548736-c4a2-47b2-9793-c7f7f6bfb810"
      },
      "id": "JNVbYdjsLj4c",
      "execution_count": 1,
      "outputs": [
        {
          "output_type": "error",
          "ename": "NameError",
          "evalue": "name 'model' is not defined",
          "traceback": [
            "\u001b[0;31m---------------------------------------------------------------------------\u001b[0m",
            "\u001b[0;31mNameError\u001b[0m                                 Traceback (most recent call last)",
            "\u001b[0;32m<ipython-input-1-77fdfe433515>\u001b[0m in \u001b[0;36m<cell line: 0>\u001b[0;34m()\u001b[0m\n\u001b[1;32m      3\u001b[0m \u001b[0;34m\u001b[0m\u001b[0m\n\u001b[1;32m      4\u001b[0m \u001b[0;31m# 1. Get predictions and true labels (as you did before)\u001b[0m\u001b[0;34m\u001b[0m\u001b[0;34m\u001b[0m\u001b[0m\n\u001b[0;32m----> 5\u001b[0;31m \u001b[0my_pred\u001b[0m \u001b[0;34m=\u001b[0m \u001b[0mmodel\u001b[0m\u001b[0;34m.\u001b[0m\u001b[0mpredict\u001b[0m\u001b[0;34m(\u001b[0m\u001b[0mx_test\u001b[0m\u001b[0;34m)\u001b[0m\u001b[0;34m\u001b[0m\u001b[0;34m\u001b[0m\u001b[0m\n\u001b[0m\u001b[1;32m      6\u001b[0m \u001b[0my_pred_classes\u001b[0m \u001b[0;34m=\u001b[0m \u001b[0mnp\u001b[0m\u001b[0;34m.\u001b[0m\u001b[0margmax\u001b[0m\u001b[0;34m(\u001b[0m\u001b[0my_pred\u001b[0m\u001b[0;34m,\u001b[0m \u001b[0maxis\u001b[0m\u001b[0;34m=\u001b[0m\u001b[0;36m1\u001b[0m\u001b[0;34m)\u001b[0m\u001b[0;34m\u001b[0m\u001b[0;34m\u001b[0m\u001b[0m\n\u001b[1;32m      7\u001b[0m \u001b[0my_true\u001b[0m \u001b[0;34m=\u001b[0m \u001b[0mnp\u001b[0m\u001b[0;34m.\u001b[0m\u001b[0margmax\u001b[0m\u001b[0;34m(\u001b[0m\u001b[0my_test\u001b[0m\u001b[0;34m,\u001b[0m \u001b[0maxis\u001b[0m\u001b[0;34m=\u001b[0m\u001b[0;36m1\u001b[0m\u001b[0;34m)\u001b[0m\u001b[0;34m\u001b[0m\u001b[0;34m\u001b[0m\u001b[0m\n",
            "\u001b[0;31mNameError\u001b[0m: name 'model' is not defined"
          ]
        }
      ]
    },
    {
      "cell_type": "markdown",
      "id": "58d2d836d4e8ce99",
      "metadata": {
        "collapsed": false,
        "id": "58d2d836d4e8ce99"
      },
      "source": [
        "### Task 3c: Visualize the model's learning\n",
        "\n",
        "- Plot the training accuracy and validation accuracy with respect to epochs.\n",
        "- Select an image that the model correctly classified in the test set, and an image that the model incorrectly classified in the test set. Plot the images and report the model's classification probabilities for each.\n",
        "- Briefly discuss the results. What do the plots show? Do the results make sense? What do the classification probabilities indicate?"
      ]
    },
    {
      "cell_type": "code",
      "execution_count": 5,
      "id": "c5b214475a496ca5",
      "metadata": {
        "ExecuteTime": {
          "end_time": "2024-01-26T17:50:59.733968Z",
          "start_time": "2024-01-26T17:50:59.730635Z"
        },
        "colab": {
          "base_uri": "https://localhost:8080/",
          "height": 228
        },
        "id": "c5b214475a496ca5",
        "outputId": "4203feac-12f8-4afa-8f48-258cd3073ffa"
      },
      "outputs": [
        {
          "output_type": "error",
          "ename": "NameError",
          "evalue": "name 'model' is not defined",
          "traceback": [
            "\u001b[0;31m---------------------------------------------------------------------------\u001b[0m",
            "\u001b[0;31mNameError\u001b[0m                                 Traceback (most recent call last)",
            "\u001b[0;32m<ipython-input-5-a31b2052d1ce>\u001b[0m in \u001b[0;36m<cell line: 0>\u001b[0;34m()\u001b[0m\n\u001b[1;32m      1\u001b[0m \u001b[0;31m#  5 epochs chosen\u001b[0m\u001b[0;34m\u001b[0m\u001b[0;34m\u001b[0m\u001b[0m\n\u001b[1;32m      2\u001b[0m \u001b[0;31m# plot for 20 epochs to visualize overfitting\u001b[0m\u001b[0;34m\u001b[0m\u001b[0;34m\u001b[0m\u001b[0m\n\u001b[0;32m----> 3\u001b[0;31m \u001b[0mhistory_\u001b[0m \u001b[0;34m=\u001b[0m \u001b[0mmodel\u001b[0m\u001b[0;34m.\u001b[0m\u001b[0mfit\u001b[0m\u001b[0;34m(\u001b[0m\u001b[0mx_train\u001b[0m\u001b[0;34m,\u001b[0m \u001b[0my_train\u001b[0m\u001b[0;34m,\u001b[0m \u001b[0mepochs\u001b[0m\u001b[0;34m=\u001b[0m\u001b[0;36m20\u001b[0m\u001b[0;34m,\u001b[0m \u001b[0mbatch_size\u001b[0m\u001b[0;34m=\u001b[0m\u001b[0;36m32\u001b[0m\u001b[0;34m,\u001b[0m \u001b[0mvalidation_data\u001b[0m\u001b[0;34m=\u001b[0m\u001b[0;34m(\u001b[0m\u001b[0mx_test\u001b[0m\u001b[0;34m,\u001b[0m \u001b[0my_test\u001b[0m\u001b[0;34m)\u001b[0m\u001b[0;34m)\u001b[0m\u001b[0;34m\u001b[0m\u001b[0;34m\u001b[0m\u001b[0m\n\u001b[0m\u001b[1;32m      4\u001b[0m \u001b[0;34m\u001b[0m\u001b[0m\n\u001b[1;32m      5\u001b[0m \u001b[0;31m# it seems that 12 is better than 5\u001b[0m\u001b[0;34m\u001b[0m\u001b[0;34m\u001b[0m\u001b[0m\n",
            "\u001b[0;31mNameError\u001b[0m: name 'model' is not defined"
          ]
        }
      ],
      "source": [
        "#  5 epochs chosen\n",
        "# plot for 20 epochs to visualize overfitting\n",
        "history_ = model.fit(x_train, y_train, epochs=20, batch_size=32, validation_data=(x_test, y_test))\n",
        "\n",
        "# it seems that 12 is better than 5\n",
        "import matplotlib.pyplot as plt\n",
        "\n",
        "# Plot training & validation accuracy values\n",
        "plt.plot(history_.history['accuracy'])\n",
        "plt.plot(history_.history['val_accuracy'])\n",
        "plt.title('Model accuracy')\n",
        "plt.ylabel('Accuracy')\n",
        "plt.xlabel('Epoch')\n",
        "plt.legend(['Train', 'Validation'], loc='upper left')\n",
        "plt.show()"
      ]
    },
    {
      "cell_type": "markdown",
      "id": "a648758ebea0561d",
      "metadata": {
        "collapsed": false,
        "id": "a648758ebea0561d"
      },
      "source": [
        "## Task 4: Model Enhancement (Complete or Incomplete)\n",
        "### Task 4a: Implementation of at least one advanced technique\n",
        "\n",
        "- Now it's time to improve your model. Implement at least one technique to improve your model's performance. You can use any of the techniques we have covered in class, or you can use a technique that we haven't covered. If you need inspiration, you can refer to the [Keras documentation](https://keras.io/).\n",
        "- Explain the technique you used and why you chose it.\n",
        "- If you used a technique that requires tuning, explain how you selected the values for the hyperparameters."
      ]
    },
    {
      "cell_type": "code",
      "execution_count": 6,
      "id": "f3659ac83122567f",
      "metadata": {
        "colab": {
          "base_uri": "https://localhost:8080/",
          "height": 211
        },
        "id": "f3659ac83122567f",
        "outputId": "6f870488-b94b-430d-f934-f64d24fe5488"
      },
      "outputs": [
        {
          "output_type": "error",
          "ename": "NameError",
          "evalue": "name 'Sequential' is not defined",
          "traceback": [
            "\u001b[0;31m---------------------------------------------------------------------------\u001b[0m",
            "\u001b[0;31mNameError\u001b[0m                                 Traceback (most recent call last)",
            "\u001b[0;32m<ipython-input-6-b31247eec990>\u001b[0m in \u001b[0;36m<cell line: 0>\u001b[0;34m()\u001b[0m\n\u001b[1;32m      6\u001b[0m \u001b[0;32mfrom\u001b[0m \u001b[0mkeras\u001b[0m\u001b[0;34m.\u001b[0m\u001b[0mlayers\u001b[0m \u001b[0;32mimport\u001b[0m \u001b[0mDropout\u001b[0m\u001b[0;34m\u001b[0m\u001b[0;34m\u001b[0m\u001b[0m\n\u001b[1;32m      7\u001b[0m \u001b[0;34m\u001b[0m\u001b[0m\n\u001b[0;32m----> 8\u001b[0;31m \u001b[0mmodel\u001b[0m \u001b[0;34m=\u001b[0m \u001b[0mSequential\u001b[0m\u001b[0;34m(\u001b[0m\u001b[0;34m)\u001b[0m\u001b[0;34m\u001b[0m\u001b[0;34m\u001b[0m\u001b[0m\n\u001b[0m\u001b[1;32m      9\u001b[0m \u001b[0;34m\u001b[0m\u001b[0m\n\u001b[1;32m     10\u001b[0m \u001b[0;31m# Convolutional Layer 1\u001b[0m\u001b[0;34m\u001b[0m\u001b[0;34m\u001b[0m\u001b[0m\n",
            "\u001b[0;31mNameError\u001b[0m: name 'Sequential' is not defined"
          ]
        }
      ],
      "source": [
        "#After reviewing the learning curve in Task 3, I noticed that using 5 epochs isn’t the best way to prevent overfitting\n",
        "#because the test accuracy improved at 12 epochs. However, even at 12 epochs, the training accuracy is 97%\n",
        "#while the validation accuracy is only 30%. This big gap shows that the model is overfitting—it performs well on\n",
        "#the training data but poorly on new data. To fix this, I will use dropout regularization.\n",
        "\n",
        "from keras.layers import Dropout\n",
        "\n",
        "model = Sequential()\n",
        "\n",
        "# Convolutional Layer 1\n",
        "model.add(Conv2D(16, (3, 3), activation='relu', padding='same', input_shape=(32, 32, 3)))\n",
        "model.add(Dropout(0.125))\n",
        "#model.add(MaxPooling2D((2, 2)))\n",
        "\n",
        "# Convolutional Layer 2\n",
        "model.add(Conv2D(32, (3, 3), activation='relu', padding='same'))\n",
        "model.add(Dropout(0.25))  # Dropout rate of 0.25 (25% of neurons dropped)\n",
        "#model.add(MaxPooling2D((2, 2)))\n",
        "\n",
        "# Convolutional Layer 3\n",
        "model.add(Conv2D(128, (3, 3), activation='relu', padding='same'))\n",
        "model.add(Dropout(0.5))  # Dropout rate of 0.5 (50% of neurons dropped)\n",
        "#model.add(MaxPooling2D((2, 2)))\n",
        "# I don't need maxpooling layers, because I have enough computing resources\n",
        "\n",
        "\n",
        "# Convolutional Layer 4\n",
        "model.add(Conv2D(256, (3, 3), activation='relu', padding='same'))\n",
        "\n",
        "# Flatten and Dense Layers\n",
        "model.add(Flatten())\n",
        "model.add(Dense(256, activation='relu'))\n",
        "model.add(Dense(100, activation='softmax'))  # 100 classes in CIFAR-100\n",
        "# The last 'flat' layer has to match the number of classes\n",
        "\n",
        "# Print model summary\n",
        "model.summary()"
      ]
    },
    {
      "cell_type": "markdown",
      "id": "d9467a483a1dd5d3",
      "metadata": {
        "collapsed": false,
        "id": "d9467a483a1dd5d3"
      },
      "source": [
        "### Task 4b: Evaluation of the enhanced model\n",
        "\n",
        "- Re-train your model using the same number of epochs as before.\n",
        "- Compare the accuracy and other selected metric on the test set to the results you obtained before.\n",
        "- As before, plot the training accuracy and validation accuracy with respect to epochs, and select an image that the model correctly classified in the test set, and an image that the model incorrectly classified in the test set. Plot the images and report the model's classification probabilities for each."
      ]
    },
    {
      "cell_type": "code",
      "execution_count": 7,
      "id": "7c4701b36dc8fc55",
      "metadata": {
        "colab": {
          "base_uri": "https://localhost:8080/",
          "height": 245
        },
        "id": "7c4701b36dc8fc55",
        "outputId": "e2b969b5-1a68-4c0d-e1ea-c488f5d9dd58"
      },
      "outputs": [
        {
          "output_type": "error",
          "ename": "NameError",
          "evalue": "name 'model' is not defined",
          "traceback": [
            "\u001b[0;31m---------------------------------------------------------------------------\u001b[0m",
            "\u001b[0;31mNameError\u001b[0m                                 Traceback (most recent call last)",
            "\u001b[0;32m<ipython-input-7-d3a138173597>\u001b[0m in \u001b[0;36m<cell line: 0>\u001b[0;34m()\u001b[0m\n\u001b[0;32m----> 1\u001b[0;31m \u001b[0mmodel\u001b[0m\u001b[0;34m.\u001b[0m\u001b[0mcompile\u001b[0m\u001b[0;34m(\u001b[0m\u001b[0mloss\u001b[0m\u001b[0;34m=\u001b[0m\u001b[0;34m'categorical_crossentropy'\u001b[0m\u001b[0;34m,\u001b[0m \u001b[0moptimizer\u001b[0m\u001b[0;34m=\u001b[0m\u001b[0;34m'adam'\u001b[0m\u001b[0;34m,\u001b[0m \u001b[0mmetrics\u001b[0m\u001b[0;34m=\u001b[0m\u001b[0;34m[\u001b[0m\u001b[0;34m'accuracy'\u001b[0m\u001b[0;34m]\u001b[0m\u001b[0;34m)\u001b[0m\u001b[0;34m\u001b[0m\u001b[0;34m\u001b[0m\u001b[0m\n\u001b[0m\u001b[1;32m      2\u001b[0m \u001b[0;34m\u001b[0m\u001b[0m\n\u001b[1;32m      3\u001b[0m \u001b[0mhistory__\u001b[0m \u001b[0;34m=\u001b[0m \u001b[0mmodel\u001b[0m\u001b[0;34m.\u001b[0m\u001b[0mfit\u001b[0m\u001b[0;34m(\u001b[0m\u001b[0mx_train\u001b[0m\u001b[0;34m,\u001b[0m \u001b[0my_train\u001b[0m\u001b[0;34m,\u001b[0m \u001b[0mepochs\u001b[0m\u001b[0;34m=\u001b[0m\u001b[0;36m20\u001b[0m\u001b[0;34m,\u001b[0m \u001b[0mbatch_size\u001b[0m\u001b[0;34m=\u001b[0m\u001b[0;36m32\u001b[0m\u001b[0;34m,\u001b[0m \u001b[0mvalidation_data\u001b[0m\u001b[0;34m=\u001b[0m\u001b[0;34m(\u001b[0m\u001b[0mx_test\u001b[0m\u001b[0;34m,\u001b[0m \u001b[0my_test\u001b[0m\u001b[0;34m)\u001b[0m\u001b[0;34m)\u001b[0m\u001b[0;34m\u001b[0m\u001b[0;34m\u001b[0m\u001b[0m\n\u001b[1;32m      4\u001b[0m \u001b[0;34m\u001b[0m\u001b[0m\n\u001b[1;32m      5\u001b[0m \u001b[0;31m# After checking the plot below, it looks like 12 is better than 5\u001b[0m\u001b[0;34m\u001b[0m\u001b[0;34m\u001b[0m\u001b[0m\n",
            "\u001b[0;31mNameError\u001b[0m: name 'model' is not defined"
          ]
        }
      ],
      "source": [
        "model.compile(loss='categorical_crossentropy', optimizer='adam', metrics=['accuracy'])\n",
        "\n",
        "history__ = model.fit(x_train, y_train, epochs=20, batch_size=32, validation_data=(x_test, y_test))\n",
        "\n",
        "# After checking the plot below, it looks like 12 is better than 5\n",
        "import matplotlib.pyplot as plt\n",
        "\n",
        "# Plot training & validation accuracy values:\n",
        "plt.plot(history__.history['accuracy'])\n",
        "plt.plot(history__.history['val_accuracy'])\n",
        "plt.title('Model accuracy')\n",
        "plt.ylabel('Accuracy')\n",
        "plt.xlabel('Epoch')\n",
        "plt.legend(['Train', 'Validation'], loc='upper left')\n",
        "plt.show()"
      ]
    },
    {
      "cell_type": "markdown",
      "id": "eadfc848700215e8",
      "metadata": {
        "collapsed": false,
        "id": "eadfc848700215e8"
      },
      "source": [
        "### Task 4c: Discussion of the results\n",
        "\n",
        "- Briefly discuss the results.\n",
        "- Did the model's performance improve?\n",
        "- Why do you think this is?\n",
        "- Do you think there is room for further improvement? Why or why not?\n",
        "- What other techniques might you try in the future?\n",
        "- Your answer should be no more than 200 words.\n",
        "\n",
        "# Your answer here"
      ]
    },
    {
      "cell_type": "markdown",
      "id": "7415f68f",
      "metadata": {
        "id": "7415f68f"
      },
      "source": [
        "## Criteria\n",
        "\n",
        "|Criteria|Complete|Incomplete|\n",
        "|----|----|----|\n",
        "|Task 1|The task has been completed successfully and there are no errors.|The task is still incomplete and there is at least one error.|\n",
        "|Task 2|The task has been completed successfully and there are no errors.|The task is still incomplete and there is at least one error.|\n",
        "|Task 3|The task has been completed successfully and there are no errors.|The task is still incomplete and there is at least one error.|\n",
        "|Task 4|The task has been completed successfully and there are no errors.|The task is still incomplete and there is at least one error.|"
      ]
    },
    {
      "cell_type": "markdown",
      "id": "ad0c10bc",
      "metadata": {
        "id": "ad0c10bc"
      },
      "source": [
        "## Submission Information\n",
        "\n",
        "🚨 **Please review our [Assignment Submission Guide](https://github.com/UofT-DSI/onboarding/blob/main/onboarding_documents/submissions.md)** 🚨 for detailed instructions on how to format, branch, and submit your work. Following these guidelines is crucial for your submissions to be evaluated correctly.\n",
        "\n",
        "### Submission Parameters:\n",
        "* Submission Due Date: `HH:MM AM/PM - DD/MM/YYYY`\n",
        "* The branch name for your repo should be: `assignment-1`\n",
        "* What to submit for this assignment:\n",
        "    * This Jupyter Notebook (assignment_1.ipynb) should be populated and should be the only change in your pull request.\n",
        "* What the pull request link should look like for this assignment: `https://github.com/<your_github_username>/deep_learning/pull/<pr_id>`\n",
        "    * Open a private window in your browser. Copy and paste the link to your pull request into the address bar. Make sure you can see your pull request properly. This helps the technical facilitator and learning support staff review your submission easily.\n",
        "\n",
        "Checklist:\n",
        "- [ ] Created a branch with the correct naming convention.\n",
        "- [ ] Ensured that the repository is public.\n",
        "- [ ] Reviewed the PR description guidelines and adhered to them.\n",
        "- [ ] Verify that the link is accessible in a private browser window.\n",
        "\n",
        "If you encounter any difficulties or have questions, please don't hesitate to reach out to our team via our Slack at `#cohort-3-help`. Our Technical Facilitators and Learning Support staff are here to help you navigate any challenges."
      ]
    }
  ],
  "metadata": {
    "kernelspec": {
      "display_name": "Python 3",
      "name": "python3"
    },
    "language_info": {
      "codemirror_mode": {
        "name": "ipython",
        "version": 3
      },
      "file_extension": ".py",
      "mimetype": "text/x-python",
      "name": "python",
      "nbconvert_exporter": "python",
      "pygments_lexer": "ipython3",
      "version": "3.12.9"
    },
    "colab": {
      "provenance": [],
      "include_colab_link": true
    }
  },
  "nbformat": 4,
  "nbformat_minor": 5
}